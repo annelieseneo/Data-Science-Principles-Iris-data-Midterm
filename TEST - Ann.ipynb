{
 "cells": [
  {
   "cell_type": "markdown",
   "metadata": {},
   "source": [
    "# DATA SCIENCE PRINCIPLES (ITS65704)"
   ]
  },
  {
   "cell_type": "markdown",
   "metadata": {},
   "source": [
    "# Assignment Details:\n",
    "* Assignment Title: Test \n",
    "* Assignment Weightage: 20%\n",
    "* Due Date: Week 8"
   ]
  },
  {
   "cell_type": "markdown",
   "metadata": {},
   "source": [
    "## Test : Exploratory Data Analysis (EDA), Visualization and Fitting a Distribution\n",
    "\n",
    "This assignment gives you an opportunity to try the most popular distribution of Python called Anaconda and to learn some of its behaviors and options. Anaconda comes with many scientific libraries preinstalled, including the Jupyter Notebook. You will need to do this besides all other assignments on a computer with Anaconda installed. This assignment is assessing the competency of the students regarding Exploratory Data Analysis (EDA), Visualization and Fitting a Distribution. \n",
    "\n",
    "## Guidelines for Assignments.\n",
    "\n",
    "The report for the assignment should be in a single file, uploaded in Times, at or before the due date and time. Your report must include:\n",
    "All of the python code you used to solve each problem, along with relevant output. You can include this as part of the body of the report, or you can put all of the code in one section of the report. Do not include incorrect python code or error messages, unless they are related to some point you are raising in your discussion. See the resources page for information on saving graphs from python in a form that can be incorporated into your report. A written description of your conclusion for each question asked in the report is expected.\n"
   ]
  },
  {
   "cell_type": "markdown",
   "metadata": {},
   "source": [
    "### The following libraries are used for marking template"
   ]
  },
  {
   "cell_type": "code",
   "execution_count": 1,
   "metadata": {},
   "outputs": [],
   "source": [
    "import pandas as pd\n",
    "import numpy as np\n",
    "import matplotlib.pyplot as plt\n",
    "from IPython.display import display\n",
    "%matplotlib inline"
   ]
  },
  {
   "cell_type": "markdown",
   "metadata": {},
   "source": [
    "## Answer all the questions."
   ]
  },
  {
   "cell_type": "markdown",
   "metadata": {},
   "source": [
    "### Question 1: Load load_breast_cancer data from sklearn.datasets and explore the data."
   ]
  },
  {
   "cell_type": "code",
   "execution_count": 2,
   "metadata": {},
   "outputs": [],
   "source": [
    "# Answer for Question 1"
   ]
  },
  {
   "cell_type": "code",
   "execution_count": 3,
   "metadata": {},
   "outputs": [
    {
     "data": {
      "text/plain": [
       "dict_keys(['data', 'target', 'frame', 'target_names', 'DESCR', 'feature_names', 'filename'])"
      ]
     },
     "execution_count": 3,
     "metadata": {},
     "output_type": "execute_result"
    }
   ],
   "source": [
    "# import the package that contains the embedded Breast Cancer dataset\n",
    "from sklearn.datasets import load_breast_cancer \n",
    "\n",
    "# load Breast Cancer data\n",
    "data = load_breast_cancer()\n",
    "\n",
    "# start exploratory data analysis (EDA) to summarise main characteristics\n",
    "\n",
    "# keys in dataset\n",
    "data.keys()"
   ]
  },
  {
   "cell_type": "code",
   "execution_count": 4,
   "metadata": {},
   "outputs": [
    {
     "name": "stdout",
     "output_type": "stream",
     "text": [
      ".. _breast_cancer_dataset:\n",
      "\n",
      "Breast cancer wisconsin (diagnostic) dataset\n",
      "--------------------------------------------\n",
      "\n",
      "**Data Set Characteristics:**\n",
      "\n",
      "    :Number of Instances: 569\n",
      "\n",
      "    :Number of Attributes: 30 numeric, predictive attributes and the class\n",
      "\n",
      "    :Attribute Information:\n",
      "        - radius (mean of distances from center to points on the perimeter)\n",
      "        - texture (standard deviation of gray-scale values)\n",
      "        - perimeter\n",
      "        - area\n",
      "        - smoothness (local variation in radius lengths)\n",
      "        - compactness (perimeter^2 / area - 1.0)\n",
      "        - concavity (severity of concave portions of the contour)\n",
      "        - concave points (number of concave portions of the contour)\n",
      "        - symmetry\n",
      "        - fractal dimension (\"coastline approximation\" - 1)\n",
      "\n",
      "        The mean, standard error, and \"worst\" or largest (mean of the three\n",
      "        worst/largest values) of these features were computed for each image,\n",
      "        resulting in 30 features.  For instance, field 0 is Mean Radius, field\n",
      "        10 is Radius SE, field 20 is Worst Radius.\n",
      "\n",
      "        - class:\n",
      "                - WDBC-Malignant\n",
      "                - WDBC-Benign\n",
      "\n",
      "    :Summary Statistics:\n",
      "\n",
      "    ===================================== ====== ======\n",
      "                                           Min    Max\n",
      "    ===================================== ====== ======\n",
      "    radius (mean):                        6.981  28.11\n",
      "    texture (mean):                       9.71   39.28\n",
      "    perimeter (mean):                     43.79  188.5\n",
      "    area (mean):                          143.5  2501.0\n",
      "    smoothness (mean):                    0.053  0.163\n",
      "    compactness (mean):                   0.019  0.345\n",
      "    concavity (mean):                     0.0    0.427\n",
      "    concave points (mean):                0.0    0.201\n",
      "    symmetry (mean):                      0.106  0.304\n",
      "    fractal dimension (mean):             0.05   0.097\n",
      "    radius (standard error):              0.112  2.873\n",
      "    texture (standard error):             0.36   4.885\n",
      "    perimeter (standard error):           0.757  21.98\n",
      "    area (standard error):                6.802  542.2\n",
      "    smoothness (standard error):          0.002  0.031\n",
      "    compactness (standard error):         0.002  0.135\n",
      "    concavity (standard error):           0.0    0.396\n",
      "    concave points (standard error):      0.0    0.053\n",
      "    symmetry (standard error):            0.008  0.079\n",
      "    fractal dimension (standard error):   0.001  0.03\n",
      "    radius (worst):                       7.93   36.04\n",
      "    texture (worst):                      12.02  49.54\n",
      "    perimeter (worst):                    50.41  251.2\n",
      "    area (worst):                         185.2  4254.0\n",
      "    smoothness (worst):                   0.071  0.223\n",
      "    compactness (worst):                  0.027  1.058\n",
      "    concavity (worst):                    0.0    1.252\n",
      "    concave points (worst):               0.0    0.291\n",
      "    symmetry (worst):                     0.156  0.664\n",
      "    fractal dimension (worst):            0.055  0.208\n",
      "    ===================================== ====== ======\n",
      "\n",
      "    :Missing Attribute Values: None\n",
      "\n",
      "    :Class Distribution: 212 - Malignant, 357 - Benign\n",
      "\n",
      "    :Creator:  Dr. William H. Wolberg, W. Nick Street, Olvi L. Mangasarian\n",
      "\n",
      "    :Donor: Nick Street\n",
      "\n",
      "    :Date: November, 1995\n",
      "\n",
      "This is a copy of UCI ML Breast Cancer Wisconsin (Diagnostic) datasets.\n",
      "https://goo.gl/U2Uwz2\n",
      "\n",
      "Features are computed from a digitized image of a fine needle\n",
      "aspirate (FNA) of a breast mass.  They describe\n",
      "characteristics of the cell nuclei present in the image.\n",
      "\n",
      "Separating plane described above was obtained using\n",
      "Multisurface Method-Tree (MSM-T) [K. P. Bennett, \"Decision Tree\n",
      "Construction Via Linear Programming.\" Proceedings of the 4th\n",
      "Midwest Artificial Intelligence and Cognitive Science Society,\n",
      "pp. 97-101, 1992], a classification method which uses linear\n",
      "programming to construct a decision tree.  Relevant features\n",
      "were selected using an exhaustive search in the space of 1-4\n",
      "features and 1-3 separating planes.\n",
      "\n",
      "The actual linear program used to obtain the separating plane\n",
      "in the 3-dimensional space is that described in:\n",
      "[K. P. Bennett and O. L. Mangasarian: \"Robust Linear\n",
      "Programming Discrimination of Two Linearly Inseparable Sets\",\n",
      "Optimization Methods and Software 1, 1992, 23-34].\n",
      "\n",
      "This database is also available through the UW CS ftp server:\n",
      "\n",
      "ftp ftp.cs.wisc.edu\n",
      "cd math-prog/cpo-dataset/machine-learn/WDBC/\n",
      "\n",
      ".. topic:: References\n",
      "\n",
      "   - W.N. Street, W.H. Wolberg and O.L. Mangasarian. Nuclear feature extraction \n",
      "     for breast tumor diagnosis. IS&T/SPIE 1993 International Symposium on \n",
      "     Electronic Imaging: Science and Technology, volume 1905, pages 861-870,\n",
      "     San Jose, CA, 1993.\n",
      "   - O.L. Mangasarian, W.N. Street and W.H. Wolberg. Breast cancer diagnosis and \n",
      "     prognosis via linear programming. Operations Research, 43(4), pages 570-577, \n",
      "     July-August 1995.\n",
      "   - W.H. Wolberg, W.N. Street, and O.L. Mangasarian. Machine learning techniques\n",
      "     to diagnose breast cancer from fine-needle aspirates. Cancer Letters 77 (1994) \n",
      "     163-171.\n"
     ]
    }
   ],
   "source": [
    "# description of data set characteristics and summary statistics\n",
    "print(data['DESCR'])"
   ]
  },
  {
   "cell_type": "code",
   "execution_count": 5,
   "metadata": {},
   "outputs": [
    {
     "data": {
      "text/plain": [
       "['malignant', 'benign']"
      ]
     },
     "execution_count": 5,
     "metadata": {},
     "output_type": "execute_result"
    }
   ],
   "source": [
    "# find and list the class names\n",
    "list(data.target_names)\n",
    "# 0 represents malignant, and 1 represents benign target class"
   ]
  },
  {
   "cell_type": "code",
   "execution_count": 6,
   "metadata": {},
   "outputs": [
    {
     "data": {
      "text/html": [
       "<div>\n",
       "<style scoped>\n",
       "    .dataframe tbody tr th:only-of-type {\n",
       "        vertical-align: middle;\n",
       "    }\n",
       "\n",
       "    .dataframe tbody tr th {\n",
       "        vertical-align: top;\n",
       "    }\n",
       "\n",
       "    .dataframe thead th {\n",
       "        text-align: right;\n",
       "    }\n",
       "</style>\n",
       "<table border=\"1\" class=\"dataframe\">\n",
       "  <thead>\n",
       "    <tr style=\"text-align: right;\">\n",
       "      <th></th>\n",
       "      <th>mean radius</th>\n",
       "      <th>mean texture</th>\n",
       "      <th>mean perimeter</th>\n",
       "      <th>mean area</th>\n",
       "      <th>mean smoothness</th>\n",
       "      <th>mean compactness</th>\n",
       "      <th>mean concavity</th>\n",
       "      <th>mean concave points</th>\n",
       "      <th>mean symmetry</th>\n",
       "      <th>mean fractal dimension</th>\n",
       "      <th>...</th>\n",
       "      <th>worst texture</th>\n",
       "      <th>worst perimeter</th>\n",
       "      <th>worst area</th>\n",
       "      <th>worst smoothness</th>\n",
       "      <th>worst compactness</th>\n",
       "      <th>worst concavity</th>\n",
       "      <th>worst concave points</th>\n",
       "      <th>worst symmetry</th>\n",
       "      <th>worst fractal dimension</th>\n",
       "      <th>target</th>\n",
       "    </tr>\n",
       "  </thead>\n",
       "  <tbody>\n",
       "    <tr>\n",
       "      <th>0</th>\n",
       "      <td>17.99</td>\n",
       "      <td>10.38</td>\n",
       "      <td>122.80</td>\n",
       "      <td>1001.0</td>\n",
       "      <td>0.11840</td>\n",
       "      <td>0.27760</td>\n",
       "      <td>0.30010</td>\n",
       "      <td>0.14710</td>\n",
       "      <td>0.2419</td>\n",
       "      <td>0.07871</td>\n",
       "      <td>...</td>\n",
       "      <td>17.33</td>\n",
       "      <td>184.60</td>\n",
       "      <td>2019.0</td>\n",
       "      <td>0.1622</td>\n",
       "      <td>0.6656</td>\n",
       "      <td>0.7119</td>\n",
       "      <td>0.2654</td>\n",
       "      <td>0.4601</td>\n",
       "      <td>0.11890</td>\n",
       "      <td>0</td>\n",
       "    </tr>\n",
       "    <tr>\n",
       "      <th>1</th>\n",
       "      <td>20.57</td>\n",
       "      <td>17.77</td>\n",
       "      <td>132.90</td>\n",
       "      <td>1326.0</td>\n",
       "      <td>0.08474</td>\n",
       "      <td>0.07864</td>\n",
       "      <td>0.08690</td>\n",
       "      <td>0.07017</td>\n",
       "      <td>0.1812</td>\n",
       "      <td>0.05667</td>\n",
       "      <td>...</td>\n",
       "      <td>23.41</td>\n",
       "      <td>158.80</td>\n",
       "      <td>1956.0</td>\n",
       "      <td>0.1238</td>\n",
       "      <td>0.1866</td>\n",
       "      <td>0.2416</td>\n",
       "      <td>0.1860</td>\n",
       "      <td>0.2750</td>\n",
       "      <td>0.08902</td>\n",
       "      <td>0</td>\n",
       "    </tr>\n",
       "    <tr>\n",
       "      <th>2</th>\n",
       "      <td>19.69</td>\n",
       "      <td>21.25</td>\n",
       "      <td>130.00</td>\n",
       "      <td>1203.0</td>\n",
       "      <td>0.10960</td>\n",
       "      <td>0.15990</td>\n",
       "      <td>0.19740</td>\n",
       "      <td>0.12790</td>\n",
       "      <td>0.2069</td>\n",
       "      <td>0.05999</td>\n",
       "      <td>...</td>\n",
       "      <td>25.53</td>\n",
       "      <td>152.50</td>\n",
       "      <td>1709.0</td>\n",
       "      <td>0.1444</td>\n",
       "      <td>0.4245</td>\n",
       "      <td>0.4504</td>\n",
       "      <td>0.2430</td>\n",
       "      <td>0.3613</td>\n",
       "      <td>0.08758</td>\n",
       "      <td>0</td>\n",
       "    </tr>\n",
       "    <tr>\n",
       "      <th>3</th>\n",
       "      <td>11.42</td>\n",
       "      <td>20.38</td>\n",
       "      <td>77.58</td>\n",
       "      <td>386.1</td>\n",
       "      <td>0.14250</td>\n",
       "      <td>0.28390</td>\n",
       "      <td>0.24140</td>\n",
       "      <td>0.10520</td>\n",
       "      <td>0.2597</td>\n",
       "      <td>0.09744</td>\n",
       "      <td>...</td>\n",
       "      <td>26.50</td>\n",
       "      <td>98.87</td>\n",
       "      <td>567.7</td>\n",
       "      <td>0.2098</td>\n",
       "      <td>0.8663</td>\n",
       "      <td>0.6869</td>\n",
       "      <td>0.2575</td>\n",
       "      <td>0.6638</td>\n",
       "      <td>0.17300</td>\n",
       "      <td>0</td>\n",
       "    </tr>\n",
       "    <tr>\n",
       "      <th>4</th>\n",
       "      <td>20.29</td>\n",
       "      <td>14.34</td>\n",
       "      <td>135.10</td>\n",
       "      <td>1297.0</td>\n",
       "      <td>0.10030</td>\n",
       "      <td>0.13280</td>\n",
       "      <td>0.19800</td>\n",
       "      <td>0.10430</td>\n",
       "      <td>0.1809</td>\n",
       "      <td>0.05883</td>\n",
       "      <td>...</td>\n",
       "      <td>16.67</td>\n",
       "      <td>152.20</td>\n",
       "      <td>1575.0</td>\n",
       "      <td>0.1374</td>\n",
       "      <td>0.2050</td>\n",
       "      <td>0.4000</td>\n",
       "      <td>0.1625</td>\n",
       "      <td>0.2364</td>\n",
       "      <td>0.07678</td>\n",
       "      <td>0</td>\n",
       "    </tr>\n",
       "    <tr>\n",
       "      <th>5</th>\n",
       "      <td>12.45</td>\n",
       "      <td>15.70</td>\n",
       "      <td>82.57</td>\n",
       "      <td>477.1</td>\n",
       "      <td>0.12780</td>\n",
       "      <td>0.17000</td>\n",
       "      <td>0.15780</td>\n",
       "      <td>0.08089</td>\n",
       "      <td>0.2087</td>\n",
       "      <td>0.07613</td>\n",
       "      <td>...</td>\n",
       "      <td>23.75</td>\n",
       "      <td>103.40</td>\n",
       "      <td>741.6</td>\n",
       "      <td>0.1791</td>\n",
       "      <td>0.5249</td>\n",
       "      <td>0.5355</td>\n",
       "      <td>0.1741</td>\n",
       "      <td>0.3985</td>\n",
       "      <td>0.12440</td>\n",
       "      <td>0</td>\n",
       "    </tr>\n",
       "    <tr>\n",
       "      <th>6</th>\n",
       "      <td>18.25</td>\n",
       "      <td>19.98</td>\n",
       "      <td>119.60</td>\n",
       "      <td>1040.0</td>\n",
       "      <td>0.09463</td>\n",
       "      <td>0.10900</td>\n",
       "      <td>0.11270</td>\n",
       "      <td>0.07400</td>\n",
       "      <td>0.1794</td>\n",
       "      <td>0.05742</td>\n",
       "      <td>...</td>\n",
       "      <td>27.66</td>\n",
       "      <td>153.20</td>\n",
       "      <td>1606.0</td>\n",
       "      <td>0.1442</td>\n",
       "      <td>0.2576</td>\n",
       "      <td>0.3784</td>\n",
       "      <td>0.1932</td>\n",
       "      <td>0.3063</td>\n",
       "      <td>0.08368</td>\n",
       "      <td>0</td>\n",
       "    </tr>\n",
       "    <tr>\n",
       "      <th>7</th>\n",
       "      <td>13.71</td>\n",
       "      <td>20.83</td>\n",
       "      <td>90.20</td>\n",
       "      <td>577.9</td>\n",
       "      <td>0.11890</td>\n",
       "      <td>0.16450</td>\n",
       "      <td>0.09366</td>\n",
       "      <td>0.05985</td>\n",
       "      <td>0.2196</td>\n",
       "      <td>0.07451</td>\n",
       "      <td>...</td>\n",
       "      <td>28.14</td>\n",
       "      <td>110.60</td>\n",
       "      <td>897.0</td>\n",
       "      <td>0.1654</td>\n",
       "      <td>0.3682</td>\n",
       "      <td>0.2678</td>\n",
       "      <td>0.1556</td>\n",
       "      <td>0.3196</td>\n",
       "      <td>0.11510</td>\n",
       "      <td>0</td>\n",
       "    </tr>\n",
       "    <tr>\n",
       "      <th>8</th>\n",
       "      <td>13.00</td>\n",
       "      <td>21.82</td>\n",
       "      <td>87.50</td>\n",
       "      <td>519.8</td>\n",
       "      <td>0.12730</td>\n",
       "      <td>0.19320</td>\n",
       "      <td>0.18590</td>\n",
       "      <td>0.09353</td>\n",
       "      <td>0.2350</td>\n",
       "      <td>0.07389</td>\n",
       "      <td>...</td>\n",
       "      <td>30.73</td>\n",
       "      <td>106.20</td>\n",
       "      <td>739.3</td>\n",
       "      <td>0.1703</td>\n",
       "      <td>0.5401</td>\n",
       "      <td>0.5390</td>\n",
       "      <td>0.2060</td>\n",
       "      <td>0.4378</td>\n",
       "      <td>0.10720</td>\n",
       "      <td>0</td>\n",
       "    </tr>\n",
       "    <tr>\n",
       "      <th>9</th>\n",
       "      <td>12.46</td>\n",
       "      <td>24.04</td>\n",
       "      <td>83.97</td>\n",
       "      <td>475.9</td>\n",
       "      <td>0.11860</td>\n",
       "      <td>0.23960</td>\n",
       "      <td>0.22730</td>\n",
       "      <td>0.08543</td>\n",
       "      <td>0.2030</td>\n",
       "      <td>0.08243</td>\n",
       "      <td>...</td>\n",
       "      <td>40.68</td>\n",
       "      <td>97.65</td>\n",
       "      <td>711.4</td>\n",
       "      <td>0.1853</td>\n",
       "      <td>1.0580</td>\n",
       "      <td>1.1050</td>\n",
       "      <td>0.2210</td>\n",
       "      <td>0.4366</td>\n",
       "      <td>0.20750</td>\n",
       "      <td>0</td>\n",
       "    </tr>\n",
       "  </tbody>\n",
       "</table>\n",
       "<p>10 rows × 31 columns</p>\n",
       "</div>"
      ],
      "text/plain": [
       "   mean radius  mean texture  mean perimeter  mean area  mean smoothness  \\\n",
       "0        17.99         10.38          122.80     1001.0          0.11840   \n",
       "1        20.57         17.77          132.90     1326.0          0.08474   \n",
       "2        19.69         21.25          130.00     1203.0          0.10960   \n",
       "3        11.42         20.38           77.58      386.1          0.14250   \n",
       "4        20.29         14.34          135.10     1297.0          0.10030   \n",
       "5        12.45         15.70           82.57      477.1          0.12780   \n",
       "6        18.25         19.98          119.60     1040.0          0.09463   \n",
       "7        13.71         20.83           90.20      577.9          0.11890   \n",
       "8        13.00         21.82           87.50      519.8          0.12730   \n",
       "9        12.46         24.04           83.97      475.9          0.11860   \n",
       "\n",
       "   mean compactness  mean concavity  mean concave points  mean symmetry  \\\n",
       "0           0.27760         0.30010              0.14710         0.2419   \n",
       "1           0.07864         0.08690              0.07017         0.1812   \n",
       "2           0.15990         0.19740              0.12790         0.2069   \n",
       "3           0.28390         0.24140              0.10520         0.2597   \n",
       "4           0.13280         0.19800              0.10430         0.1809   \n",
       "5           0.17000         0.15780              0.08089         0.2087   \n",
       "6           0.10900         0.11270              0.07400         0.1794   \n",
       "7           0.16450         0.09366              0.05985         0.2196   \n",
       "8           0.19320         0.18590              0.09353         0.2350   \n",
       "9           0.23960         0.22730              0.08543         0.2030   \n",
       "\n",
       "   mean fractal dimension  ...  worst texture  worst perimeter  worst area  \\\n",
       "0                 0.07871  ...          17.33           184.60      2019.0   \n",
       "1                 0.05667  ...          23.41           158.80      1956.0   \n",
       "2                 0.05999  ...          25.53           152.50      1709.0   \n",
       "3                 0.09744  ...          26.50            98.87       567.7   \n",
       "4                 0.05883  ...          16.67           152.20      1575.0   \n",
       "5                 0.07613  ...          23.75           103.40       741.6   \n",
       "6                 0.05742  ...          27.66           153.20      1606.0   \n",
       "7                 0.07451  ...          28.14           110.60       897.0   \n",
       "8                 0.07389  ...          30.73           106.20       739.3   \n",
       "9                 0.08243  ...          40.68            97.65       711.4   \n",
       "\n",
       "   worst smoothness  worst compactness  worst concavity  worst concave points  \\\n",
       "0            0.1622             0.6656           0.7119                0.2654   \n",
       "1            0.1238             0.1866           0.2416                0.1860   \n",
       "2            0.1444             0.4245           0.4504                0.2430   \n",
       "3            0.2098             0.8663           0.6869                0.2575   \n",
       "4            0.1374             0.2050           0.4000                0.1625   \n",
       "5            0.1791             0.5249           0.5355                0.1741   \n",
       "6            0.1442             0.2576           0.3784                0.1932   \n",
       "7            0.1654             0.3682           0.2678                0.1556   \n",
       "8            0.1703             0.5401           0.5390                0.2060   \n",
       "9            0.1853             1.0580           1.1050                0.2210   \n",
       "\n",
       "   worst symmetry  worst fractal dimension  target  \n",
       "0          0.4601                  0.11890       0  \n",
       "1          0.2750                  0.08902       0  \n",
       "2          0.3613                  0.08758       0  \n",
       "3          0.6638                  0.17300       0  \n",
       "4          0.2364                  0.07678       0  \n",
       "5          0.3985                  0.12440       0  \n",
       "6          0.3063                  0.08368       0  \n",
       "7          0.3196                  0.11510       0  \n",
       "8          0.4378                  0.10720       0  \n",
       "9          0.4366                  0.20750       0  \n",
       "\n",
       "[10 rows x 31 columns]"
      ]
     },
     "execution_count": 6,
     "metadata": {},
     "output_type": "execute_result"
    }
   ],
   "source": [
    "# load data into a dataframe and set the field names\n",
    "# dataframes allow a wider variety of methods for data analysis\n",
    "df = pd.DataFrame(data.data, columns=data.feature_names)\n",
    "\n",
    "# create a new attribute column for the target class, using data keys\n",
    "df['target'] = pd.Series(data.target)\n",
    "\n",
    "# return the first 10 records/rows of the dataset\n",
    "df.head(10)"
   ]
  },
  {
   "cell_type": "code",
   "execution_count": 7,
   "metadata": {},
   "outputs": [
    {
     "data": {
      "text/plain": [
       "pandas.core.frame.DataFrame"
      ]
     },
     "execution_count": 7,
     "metadata": {},
     "output_type": "execute_result"
    }
   ],
   "source": [
    "# return the object type, which is dataframe after the earlier conversion\n",
    "type(df)"
   ]
  },
  {
   "cell_type": "code",
   "execution_count": 8,
   "metadata": {},
   "outputs": [
    {
     "data": {
      "text/plain": [
       "(569, 31)"
      ]
     },
     "execution_count": 8,
     "metadata": {},
     "output_type": "execute_result"
    }
   ],
   "source": [
    "# return the number of records (rows) and the number of attributes (columns)\n",
    "df.shape"
   ]
  },
  {
   "cell_type": "code",
   "execution_count": 9,
   "metadata": {},
   "outputs": [
    {
     "name": "stdout",
     "output_type": "stream",
     "text": [
      "<class 'pandas.core.frame.DataFrame'>\n",
      "RangeIndex: 569 entries, 0 to 568\n",
      "Data columns (total 31 columns):\n",
      " #   Column                   Non-Null Count  Dtype  \n",
      "---  ------                   --------------  -----  \n",
      " 0   mean radius              569 non-null    float64\n",
      " 1   mean texture             569 non-null    float64\n",
      " 2   mean perimeter           569 non-null    float64\n",
      " 3   mean area                569 non-null    float64\n",
      " 4   mean smoothness          569 non-null    float64\n",
      " 5   mean compactness         569 non-null    float64\n",
      " 6   mean concavity           569 non-null    float64\n",
      " 7   mean concave points      569 non-null    float64\n",
      " 8   mean symmetry            569 non-null    float64\n",
      " 9   mean fractal dimension   569 non-null    float64\n",
      " 10  radius error             569 non-null    float64\n",
      " 11  texture error            569 non-null    float64\n",
      " 12  perimeter error          569 non-null    float64\n",
      " 13  area error               569 non-null    float64\n",
      " 14  smoothness error         569 non-null    float64\n",
      " 15  compactness error        569 non-null    float64\n",
      " 16  concavity error          569 non-null    float64\n",
      " 17  concave points error     569 non-null    float64\n",
      " 18  symmetry error           569 non-null    float64\n",
      " 19  fractal dimension error  569 non-null    float64\n",
      " 20  worst radius             569 non-null    float64\n",
      " 21  worst texture            569 non-null    float64\n",
      " 22  worst perimeter          569 non-null    float64\n",
      " 23  worst area               569 non-null    float64\n",
      " 24  worst smoothness         569 non-null    float64\n",
      " 25  worst compactness        569 non-null    float64\n",
      " 26  worst concavity          569 non-null    float64\n",
      " 27  worst concave points     569 non-null    float64\n",
      " 28  worst symmetry           569 non-null    float64\n",
      " 29  worst fractal dimension  569 non-null    float64\n",
      " 30  target                   569 non-null    int32  \n",
      "dtypes: float64(30), int32(1)\n",
      "memory usage: 135.7 KB\n"
     ]
    }
   ],
   "source": [
    "# display the number of entries, the number and names of the column attributes, the data type and\n",
    "# digit placings, and the memory space used\n",
    "df.info()\n",
    "\n",
    "# output :\n",
    "# 1 target class of either binary 0 or 1 of categorical data\n",
    "# 30 attributes  of continuous numerical feature data type with 64 digit placings\n",
    "# 569 records with no missing values\n",
    "# memory space usage is 133.5kb"
   ]
  },
  {
   "cell_type": "code",
   "execution_count": 10,
   "metadata": {},
   "outputs": [
    {
     "data": {
      "text/html": [
       "<div>\n",
       "<style scoped>\n",
       "    .dataframe tbody tr th:only-of-type {\n",
       "        vertical-align: middle;\n",
       "    }\n",
       "\n",
       "    .dataframe tbody tr th {\n",
       "        vertical-align: top;\n",
       "    }\n",
       "\n",
       "    .dataframe thead th {\n",
       "        text-align: right;\n",
       "    }\n",
       "</style>\n",
       "<table border=\"1\" class=\"dataframe\">\n",
       "  <thead>\n",
       "    <tr style=\"text-align: right;\">\n",
       "      <th></th>\n",
       "      <th>mean radius</th>\n",
       "      <th>mean texture</th>\n",
       "      <th>mean perimeter</th>\n",
       "      <th>mean area</th>\n",
       "      <th>mean smoothness</th>\n",
       "      <th>mean compactness</th>\n",
       "      <th>mean concavity</th>\n",
       "      <th>mean concave points</th>\n",
       "      <th>mean symmetry</th>\n",
       "      <th>mean fractal dimension</th>\n",
       "      <th>...</th>\n",
       "      <th>worst texture</th>\n",
       "      <th>worst perimeter</th>\n",
       "      <th>worst area</th>\n",
       "      <th>worst smoothness</th>\n",
       "      <th>worst compactness</th>\n",
       "      <th>worst concavity</th>\n",
       "      <th>worst concave points</th>\n",
       "      <th>worst symmetry</th>\n",
       "      <th>worst fractal dimension</th>\n",
       "      <th>target</th>\n",
       "    </tr>\n",
       "  </thead>\n",
       "  <tbody>\n",
       "    <tr>\n",
       "      <th>count</th>\n",
       "      <td>569.000000</td>\n",
       "      <td>569.000000</td>\n",
       "      <td>569.000000</td>\n",
       "      <td>569.000000</td>\n",
       "      <td>569.000000</td>\n",
       "      <td>569.000000</td>\n",
       "      <td>569.000000</td>\n",
       "      <td>569.000000</td>\n",
       "      <td>569.000000</td>\n",
       "      <td>569.000000</td>\n",
       "      <td>...</td>\n",
       "      <td>569.000000</td>\n",
       "      <td>569.000000</td>\n",
       "      <td>569.000000</td>\n",
       "      <td>569.000000</td>\n",
       "      <td>569.000000</td>\n",
       "      <td>569.000000</td>\n",
       "      <td>569.000000</td>\n",
       "      <td>569.000000</td>\n",
       "      <td>569.000000</td>\n",
       "      <td>569.000000</td>\n",
       "    </tr>\n",
       "    <tr>\n",
       "      <th>mean</th>\n",
       "      <td>14.127292</td>\n",
       "      <td>19.289649</td>\n",
       "      <td>91.969033</td>\n",
       "      <td>654.889104</td>\n",
       "      <td>0.096360</td>\n",
       "      <td>0.104341</td>\n",
       "      <td>0.088799</td>\n",
       "      <td>0.048919</td>\n",
       "      <td>0.181162</td>\n",
       "      <td>0.062798</td>\n",
       "      <td>...</td>\n",
       "      <td>25.677223</td>\n",
       "      <td>107.261213</td>\n",
       "      <td>880.583128</td>\n",
       "      <td>0.132369</td>\n",
       "      <td>0.254265</td>\n",
       "      <td>0.272188</td>\n",
       "      <td>0.114606</td>\n",
       "      <td>0.290076</td>\n",
       "      <td>0.083946</td>\n",
       "      <td>0.627417</td>\n",
       "    </tr>\n",
       "    <tr>\n",
       "      <th>std</th>\n",
       "      <td>3.524049</td>\n",
       "      <td>4.301036</td>\n",
       "      <td>24.298981</td>\n",
       "      <td>351.914129</td>\n",
       "      <td>0.014064</td>\n",
       "      <td>0.052813</td>\n",
       "      <td>0.079720</td>\n",
       "      <td>0.038803</td>\n",
       "      <td>0.027414</td>\n",
       "      <td>0.007060</td>\n",
       "      <td>...</td>\n",
       "      <td>6.146258</td>\n",
       "      <td>33.602542</td>\n",
       "      <td>569.356993</td>\n",
       "      <td>0.022832</td>\n",
       "      <td>0.157336</td>\n",
       "      <td>0.208624</td>\n",
       "      <td>0.065732</td>\n",
       "      <td>0.061867</td>\n",
       "      <td>0.018061</td>\n",
       "      <td>0.483918</td>\n",
       "    </tr>\n",
       "    <tr>\n",
       "      <th>min</th>\n",
       "      <td>6.981000</td>\n",
       "      <td>9.710000</td>\n",
       "      <td>43.790000</td>\n",
       "      <td>143.500000</td>\n",
       "      <td>0.052630</td>\n",
       "      <td>0.019380</td>\n",
       "      <td>0.000000</td>\n",
       "      <td>0.000000</td>\n",
       "      <td>0.106000</td>\n",
       "      <td>0.049960</td>\n",
       "      <td>...</td>\n",
       "      <td>12.020000</td>\n",
       "      <td>50.410000</td>\n",
       "      <td>185.200000</td>\n",
       "      <td>0.071170</td>\n",
       "      <td>0.027290</td>\n",
       "      <td>0.000000</td>\n",
       "      <td>0.000000</td>\n",
       "      <td>0.156500</td>\n",
       "      <td>0.055040</td>\n",
       "      <td>0.000000</td>\n",
       "    </tr>\n",
       "    <tr>\n",
       "      <th>25%</th>\n",
       "      <td>11.700000</td>\n",
       "      <td>16.170000</td>\n",
       "      <td>75.170000</td>\n",
       "      <td>420.300000</td>\n",
       "      <td>0.086370</td>\n",
       "      <td>0.064920</td>\n",
       "      <td>0.029560</td>\n",
       "      <td>0.020310</td>\n",
       "      <td>0.161900</td>\n",
       "      <td>0.057700</td>\n",
       "      <td>...</td>\n",
       "      <td>21.080000</td>\n",
       "      <td>84.110000</td>\n",
       "      <td>515.300000</td>\n",
       "      <td>0.116600</td>\n",
       "      <td>0.147200</td>\n",
       "      <td>0.114500</td>\n",
       "      <td>0.064930</td>\n",
       "      <td>0.250400</td>\n",
       "      <td>0.071460</td>\n",
       "      <td>0.000000</td>\n",
       "    </tr>\n",
       "    <tr>\n",
       "      <th>50%</th>\n",
       "      <td>13.370000</td>\n",
       "      <td>18.840000</td>\n",
       "      <td>86.240000</td>\n",
       "      <td>551.100000</td>\n",
       "      <td>0.095870</td>\n",
       "      <td>0.092630</td>\n",
       "      <td>0.061540</td>\n",
       "      <td>0.033500</td>\n",
       "      <td>0.179200</td>\n",
       "      <td>0.061540</td>\n",
       "      <td>...</td>\n",
       "      <td>25.410000</td>\n",
       "      <td>97.660000</td>\n",
       "      <td>686.500000</td>\n",
       "      <td>0.131300</td>\n",
       "      <td>0.211900</td>\n",
       "      <td>0.226700</td>\n",
       "      <td>0.099930</td>\n",
       "      <td>0.282200</td>\n",
       "      <td>0.080040</td>\n",
       "      <td>1.000000</td>\n",
       "    </tr>\n",
       "    <tr>\n",
       "      <th>75%</th>\n",
       "      <td>15.780000</td>\n",
       "      <td>21.800000</td>\n",
       "      <td>104.100000</td>\n",
       "      <td>782.700000</td>\n",
       "      <td>0.105300</td>\n",
       "      <td>0.130400</td>\n",
       "      <td>0.130700</td>\n",
       "      <td>0.074000</td>\n",
       "      <td>0.195700</td>\n",
       "      <td>0.066120</td>\n",
       "      <td>...</td>\n",
       "      <td>29.720000</td>\n",
       "      <td>125.400000</td>\n",
       "      <td>1084.000000</td>\n",
       "      <td>0.146000</td>\n",
       "      <td>0.339100</td>\n",
       "      <td>0.382900</td>\n",
       "      <td>0.161400</td>\n",
       "      <td>0.317900</td>\n",
       "      <td>0.092080</td>\n",
       "      <td>1.000000</td>\n",
       "    </tr>\n",
       "    <tr>\n",
       "      <th>max</th>\n",
       "      <td>28.110000</td>\n",
       "      <td>39.280000</td>\n",
       "      <td>188.500000</td>\n",
       "      <td>2501.000000</td>\n",
       "      <td>0.163400</td>\n",
       "      <td>0.345400</td>\n",
       "      <td>0.426800</td>\n",
       "      <td>0.201200</td>\n",
       "      <td>0.304000</td>\n",
       "      <td>0.097440</td>\n",
       "      <td>...</td>\n",
       "      <td>49.540000</td>\n",
       "      <td>251.200000</td>\n",
       "      <td>4254.000000</td>\n",
       "      <td>0.222600</td>\n",
       "      <td>1.058000</td>\n",
       "      <td>1.252000</td>\n",
       "      <td>0.291000</td>\n",
       "      <td>0.663800</td>\n",
       "      <td>0.207500</td>\n",
       "      <td>1.000000</td>\n",
       "    </tr>\n",
       "  </tbody>\n",
       "</table>\n",
       "<p>8 rows × 31 columns</p>\n",
       "</div>"
      ],
      "text/plain": [
       "       mean radius  mean texture  mean perimeter    mean area  \\\n",
       "count   569.000000    569.000000      569.000000   569.000000   \n",
       "mean     14.127292     19.289649       91.969033   654.889104   \n",
       "std       3.524049      4.301036       24.298981   351.914129   \n",
       "min       6.981000      9.710000       43.790000   143.500000   \n",
       "25%      11.700000     16.170000       75.170000   420.300000   \n",
       "50%      13.370000     18.840000       86.240000   551.100000   \n",
       "75%      15.780000     21.800000      104.100000   782.700000   \n",
       "max      28.110000     39.280000      188.500000  2501.000000   \n",
       "\n",
       "       mean smoothness  mean compactness  mean concavity  mean concave points  \\\n",
       "count       569.000000        569.000000      569.000000           569.000000   \n",
       "mean          0.096360          0.104341        0.088799             0.048919   \n",
       "std           0.014064          0.052813        0.079720             0.038803   \n",
       "min           0.052630          0.019380        0.000000             0.000000   \n",
       "25%           0.086370          0.064920        0.029560             0.020310   \n",
       "50%           0.095870          0.092630        0.061540             0.033500   \n",
       "75%           0.105300          0.130400        0.130700             0.074000   \n",
       "max           0.163400          0.345400        0.426800             0.201200   \n",
       "\n",
       "       mean symmetry  mean fractal dimension  ...  worst texture  \\\n",
       "count     569.000000              569.000000  ...     569.000000   \n",
       "mean        0.181162                0.062798  ...      25.677223   \n",
       "std         0.027414                0.007060  ...       6.146258   \n",
       "min         0.106000                0.049960  ...      12.020000   \n",
       "25%         0.161900                0.057700  ...      21.080000   \n",
       "50%         0.179200                0.061540  ...      25.410000   \n",
       "75%         0.195700                0.066120  ...      29.720000   \n",
       "max         0.304000                0.097440  ...      49.540000   \n",
       "\n",
       "       worst perimeter   worst area  worst smoothness  worst compactness  \\\n",
       "count       569.000000   569.000000        569.000000         569.000000   \n",
       "mean        107.261213   880.583128          0.132369           0.254265   \n",
       "std          33.602542   569.356993          0.022832           0.157336   \n",
       "min          50.410000   185.200000          0.071170           0.027290   \n",
       "25%          84.110000   515.300000          0.116600           0.147200   \n",
       "50%          97.660000   686.500000          0.131300           0.211900   \n",
       "75%         125.400000  1084.000000          0.146000           0.339100   \n",
       "max         251.200000  4254.000000          0.222600           1.058000   \n",
       "\n",
       "       worst concavity  worst concave points  worst symmetry  \\\n",
       "count       569.000000            569.000000      569.000000   \n",
       "mean          0.272188              0.114606        0.290076   \n",
       "std           0.208624              0.065732        0.061867   \n",
       "min           0.000000              0.000000        0.156500   \n",
       "25%           0.114500              0.064930        0.250400   \n",
       "50%           0.226700              0.099930        0.282200   \n",
       "75%           0.382900              0.161400        0.317900   \n",
       "max           1.252000              0.291000        0.663800   \n",
       "\n",
       "       worst fractal dimension      target  \n",
       "count               569.000000  569.000000  \n",
       "mean                  0.083946    0.627417  \n",
       "std                   0.018061    0.483918  \n",
       "min                   0.055040    0.000000  \n",
       "25%                   0.071460    0.000000  \n",
       "50%                   0.080040    1.000000  \n",
       "75%                   0.092080    1.000000  \n",
       "max                   0.207500    1.000000  \n",
       "\n",
       "[8 rows x 31 columns]"
      ]
     },
     "execution_count": 10,
     "metadata": {},
     "output_type": "execute_result"
    }
   ],
   "source": [
    "# summary statistics of the attributes, including measures of central tendency and \n",
    "# measures of dispersion\n",
    "df.describe() "
   ]
  },
  {
   "cell_type": "markdown",
   "metadata": {},
   "source": [
    "Conclusion :\n",
    "\n",
    "The Breast Cancer dataset has 2 classes - malignant and benign. The dataset contains 569 records and 30 attributes, with continuous numerical data values and no missing data values. The features have three main categories - mean, standard deviation/error, and worst. One of the main methods used to view these information is info(). \n",
    "\n",
    "Dataframes allow the use of a wider variety of syntax and methods for data analysis. One example is describe () to obtain summary statistics including measures of central tendency such as mean and median, and measures of dispersion such as standard deviation, which are useful in providing a quick and simple description of the dataset and its characteristics. \n",
    "\n",
    "Exploratory data analysis (EDA) is helpful in performing initial investigations on data before formal modeling and graphical representations, in order to discover patterns, identify anomalies, look over assumptions, and test hypothesis."
   ]
  },
  {
   "cell_type": "code",
   "execution_count": 11,
   "metadata": {},
   "outputs": [],
   "source": [
    "# Marks for Question 1 \n",
    "#Q1=Test([1,10,10,10,8,10])"
   ]
  },
  {
   "cell_type": "markdown",
   "metadata": {},
   "source": [
    "### Question 2: Choose any four columns from the dataset and rename the dataset using one string witout spacing. Example: Mean radius will be written as radius."
   ]
  },
  {
   "cell_type": "code",
   "execution_count": 12,
   "metadata": {},
   "outputs": [],
   "source": [
    "# Answer for Question 2"
   ]
  },
  {
   "cell_type": "code",
   "execution_count": 13,
   "metadata": {},
   "outputs": [
    {
     "name": "stdout",
     "output_type": "stream",
     "text": [
      "Index(['radius', 'texture', 'perimeter', 'area'], dtype='object')\n"
     ]
    }
   ],
   "source": [
    "# choose and rename the first four columns\n",
    "df.rename(columns = {'mean radius':'radius', 'mean texture':'texture', \n",
    "          'mean perimeter':'perimeter', 'mean area':'area'}, inplace = True) \n",
    "   \n",
    "# after renaming the columns \n",
    "print(df.columns[0:4])"
   ]
  },
  {
   "cell_type": "markdown",
   "metadata": {},
   "source": [
    "Conclusion :\n",
    "\n",
    "The rename() method is used to change the names of the specified columns to the specified new names. The changes can be displayed by printing out all the column names using the print() method, or simply printing out the renamed columns according to their position and using ’:’ to find the columns that are located between a specific range of position."
   ]
  },
  {
   "cell_type": "code",
   "execution_count": 14,
   "metadata": {},
   "outputs": [],
   "source": [
    "# Marks for Question 2 \n",
    "#Q2=Test([2,10,10,10,8,10])"
   ]
  },
  {
   "cell_type": "markdown",
   "metadata": {},
   "source": [
    "### Question 3: Visualize the data using various visualization techniques."
   ]
  },
  {
   "cell_type": "code",
   "execution_count": 15,
   "metadata": {},
   "outputs": [],
   "source": [
    "#Answer for Question 3"
   ]
  },
  {
   "cell_type": "code",
   "execution_count": 16,
   "metadata": {},
   "outputs": [
    {
     "data": {
      "image/png": "[encoded data removed]",
      "text/plain": [
       "<Figure size 432x288 with 1 Axes>"
      ]
     },
     "metadata": {},
     "output_type": "display_data"
    }
   ],
   "source": [
    "# visualise the count of the target class\n",
    "fig, ax = plt.subplots()\n",
    "count = df['target'].value_counts()\n",
    "ax.pie(count, colors = ['#DDA0DD', '#CC6666'], autopct='%1.f%%', explode=(0, 0.1), shadow=True)\n",
    "\n",
    "# display legend\n",
    "fig.legend(loc='center right', labels=['Benign','Malignant'], fontsize='medium')\n",
    "\n",
    "# title of pie chart\n",
    "ax.set_title('Counterplot of Breast Cancer Diagnosis in Percentage')\n",
    "\n",
    "# plot the graph\n",
    "plt.show()"
   ]
  },
  {
   "cell_type": "markdown",
   "metadata": {},
   "source": [
    "Conclusion :\n",
    "\n",
    "Analysis is mostly focused on the relationship between the various Breast Cancer features and the target feature which is Breast Cancer diagnosis. This is because the diagnosis purpose will be mostly interested in these types of correlation and their strengths, in order for accurate predictions. \n",
    "\n",
    "matplotlib.pyplot graphics library is imported for visualisations of figures such as pie charts and line graphs. It is convenient as it has good reproducibility of scientific figures, for example when regenerating a figure using updated data, appearance, latex labels and texts, and aspects such as orientation. %matplotlib inline is used to configure the output of the figures to be embedded in the Jupyter notebook file, instead of opening a new window each time.\n",
    "\n",
    "Data visualisation will include suitable graphs that are descriptive and comparative to effectively communicate both abstract and concrete ideas. The pie() method generates a pie chart counterplot for the target feature of Malignant and Benign values. Other methods such as legend() and set.title() and their specified parameters provide control over the axis appearance by customising the properties, which supports the current visualisation to be more meaningful. \n",
    "\n",
    "This first chart clearly illustrates that data available for the target class of malignant Breast Cancer cells has less proportion than that for benign. This will be taken note of for further data visualisations and analysis later on."
   ]
  },
  {
   "cell_type": "code",
   "execution_count": 17,
   "metadata": {},
   "outputs": [
    {
     "data": {
      "image/png": "[encoded data removed]",
      "text/plain": [
       "<Figure size 1224x360 with 1 Axes>"
      ]
     },
     "metadata": {
      "needs_background": "light"
     },
     "output_type": "display_data"
    }
   ],
   "source": [
    "# import searborn library for more variety of data visualisation using fewer syntax and \n",
    "# interesting default themes\n",
    "import seaborn as sns \n",
    "\n",
    "# create another DataFrame after dropping the target class\n",
    "df2 = df.drop(['target'], axis =1)\n",
    "\n",
    "# create space for a figure, and set the figure size (aspect ratio)\n",
    "plt.figure(figsize = (17,5))\n",
    "\n",
    "# visualise correlation barplot of features with the target\n",
    "ax = sns.barplot(df2.corrwith(df.target).index, df2.corrwith(df.target))\n",
    "\n",
    "# x axis label settings\n",
    "ax.tick_params(labelrotation = 90)\n",
    "\n",
    "# chart title\n",
    "ax.set_title('Correlation Barplot based on Diagnosis')\n",
    "\n",
    "# y axis label\n",
    "ax.set_ylabel('Correlation')\n",
    "\n",
    "plt.show()"
   ]
  },
  {
   "cell_type": "markdown",
   "metadata": {},
   "source": [
    "Conclusion :\n",
    "\n",
    "Seaborn, a Python data visualization library based on matplotlib, is imported as it requires the use of fewer syntax to generate a variety statistical graphics with interesting default themes.\n",
    "\n",
    "The barplot() method is used to visualise a correlation barplot of all features with the target feature. The drop() method is used to drop the target feature to create a new dataframe. Other methods such as set_ylabel() and tick_params() are used to customise the axis properties to support and produce clear and meaningful data visualisations. \n",
    "\n",
    "The correlation barplot will compare and describe the connection/relationship between all the features and the target feature, since this is of most use and interest for diagnosis purposes. The graph will illustrate the type of correlation and its strength. A positive correlation indicates that both features will change their values in the same direction, while a negative correlation indicates that both features will change their values in opposite directions. The larger the correlation strength, the stronger the connection/relationship, and therefore more accurate predictions can be made for Diagnosis purposes.\n",
    "\n",
    "According to the correlation barplot above, the feature ‘smoothness error’ has the strongest positive correlation with the target feature than all the others, while ‘symmetry error’ has the weakest positive correlation. 'worst concave points' has the strongest negative correlation, while 'fractal dimension error' has the weakest negative correlation."
   ]
  },
  {
   "cell_type": "code",
   "execution_count": 18,
   "metadata": {},
   "outputs": [
    {
     "data": {
      "image/png": "[encoded data removed]",
      "text/plain": [
       "<Figure size 432x288 with 1 Axes>"
      ]
     },
     "metadata": {
      "needs_background": "light"
     },
     "output_type": "display_data"
    },
    {
     "data": {
      "image/png": "[encoded data removed]",
      "text/plain": [
       "<Figure size 432x288 with 1 Axes>"
      ]
     },
     "metadata": {
      "needs_background": "light"
     },
     "output_type": "display_data"
    },
    {
     "data": {
      "image/png": "[encoded data removed]",
      "text/plain": [
       "<Figure size 432x288 with 1 Axes>"
      ]
     },
     "metadata": {
      "needs_background": "light"
     },
     "output_type": "display_data"
    }
   ],
   "source": [
    "# the features have three main categories - mean, standard deviations/errors, and worst.\n",
    "# density plotting to visualise data frequency for overall data distribution for three features \n",
    "# that are strongly, moderately, and weakly correlated to the target feature of Breast Cancer \n",
    "# Diagnosis respectively.\n",
    "from seaborn import distplot\n",
    "\n",
    "# chosen three features for density plotting\n",
    "for i in ('radius', 'mean compactness', 'texture error'):\n",
    "    plt.figure()\n",
    "    \n",
    "    # compare distribution of Benign and Malignant by using different RGB hex codes to \n",
    "    # differentiate the diagnosis by colour\n",
    "    distplot(df[i][df['target']==1], color='#990099')\n",
    "    distplot(df[i][df['target']==0], color='#990033')\n",
    "    \n",
    "    # plot distribution of data, set graph title, and specify a dashed line style and transparency\n",
    "    df[i].plot.kde(title=i.title(), linestyle='dashed', alpha=0.7)\n",
    "    \n",
    "    # display legend by passing location argument (to top right corner) and a list of legend texts\n",
    "    plt.legend(loc='upper right', labels=['Distribution of Data','Benign','Malignant'])\n",
    "    \n",
    "    # set x axis limit\n",
    "    plt.xlim(0, )\n",
    "\n",
    "    plt.show()"
   ]
  },
  {
   "cell_type": "markdown",
   "metadata": {},
   "source": [
    "Conclusion :\n",
    "\n",
    "Histogram density plots are chosen to illustrate the overall data distribution, as well as the data distributions of Malignant and Benign target feature values based on the chosen features. Three features are chosen to be plotted, and they are strongly, moderately, and weakly correlated to the target feature respectively. Seaborn is used for a more terse API. \n",
    "\n",
    "Kernel density estimate (KDE) plots, using the kde() method, visualise the overall distribution through a continuous probability density curve. The distplot() method generates two histogram density plots and their continuous probability density curves for the two target feature values in the same figure space, and clearly differentiates them by specifying different RGB hex colour codes in its parameters. The xlim() method restricts plot range to 0 and above for meaningful visualisations, since it is impossible for the three chosen features to have a negative value.\n",
    "\n",
    "All the overall KDE distribution curves have positive kurtosis and are positively skewed. This is mostly because there is less data available for Malignant breast cancer in the dataset, as shown in the pie chart above. \n",
    "\n",
    "The histogram density plots and their respective highest point in the curves show that most benign cells are shown to have a smaller radius, and thus smaller perimeter and area than malignant cells. The same applies to compactness, as benign cells are shown to be less compact than malignant cells. As for texture error, there is no almost no correlation as the overlapping area is significant, so no useful meaning can be extracted from this type of plot for weakly correlated features.\n",
    "\n",
    "The difference in the overlapping histogram density plots clearly show that the target class of strongly correlated features can be predicted more easily. Its data points are less scattered and thus have less overlapping areas, which means that they better follow their respective common relationship/pattern."
   ]
  },
  {
   "cell_type": "code",
   "execution_count": 41,
   "metadata": {},
   "outputs": [
    {
     "data": {
      "image/png": "[encoded data removed]",
      "text/plain": [
       "<Figure size 432x288 with 1 Axes>"
      ]
     },
     "metadata": {
      "needs_background": "light"
     },
     "output_type": "display_data"
    }
   ],
   "source": [
    "# plot a line of best fit to predict the relationship between Radius and Area\n",
    "fig, axes = plt.subplots()\n",
    "\n",
    "# graph title\n",
    "axes.set_title('Relationship between Radius and Area')\n",
    "\n",
    "# x axis label\n",
    "axes.set_xlabel('Radius')\n",
    "\n",
    "# y axis label\n",
    "axes.set_ylabel('Area')\n",
    "\n",
    "# create scatter plot according to specified symbol and colour selection \n",
    "plt.plot(df.radius, df.area, '*', color='#990099')\n",
    "\n",
    "# plot line of best fit\n",
    "slope, intercept = np.polyfit(df.radius, df.area, 1)\n",
    "plt.plot(df.radius, slope * df.radius + intercept)\n",
    "\n",
    "# display equation of best fit line at the specified coordinates\n",
    "plt.text(8, 1100, '$y = {:.4f} + {:.4f}x$'.format(intercept,slope))\n",
    "\n",
    "plt.show()"
   ]
  },
  {
   "cell_type": "markdown",
   "metadata": {},
   "source": [
    "Conclusion : \n",
    "\n",
    "For the analysis and prediction of the relationship between the other features, for example Radius and Area, a scatter plot can be used to compare the two sets of data and generate a line of best fit. The above graph descriptively shows that the line of best fit has a positive gradient/slope of 98.5982 to four decimal places. The correlation is strong and positive. \n",
    "\n",
    "This means that an increase of one unit of Radius will result in an estimated increase of 98.9582 units of Area on average. The equation of line of best fit can thus be used to predict Radius and Area values when either one value is already given."
   ]
  },
  {
   "cell_type": "code",
   "execution_count": 20,
   "metadata": {},
   "outputs": [],
   "source": [
    "# Marks for Question 3 \n",
    "#Q3=Test([3,10,10,10,8,10])"
   ]
  },
  {
   "cell_type": "markdown",
   "metadata": {},
   "source": [
    "### Question 4: Fitting an appropriate distribution to one of the column from Question 2. \n"
   ]
  },
  {
   "cell_type": "code",
   "execution_count": 21,
   "metadata": {},
   "outputs": [],
   "source": [
    "# Answer for Question 4"
   ]
  },
  {
   "cell_type": "code",
   "execution_count": 22,
   "metadata": {},
   "outputs": [
    {
     "name": "stdout",
     "output_type": "stream",
     "text": [
      "Results from Fit_Normal_2P (95% CI):\n",
      "           Point Estimate  Standard Error   Lower CI   Upper CI\n",
      "Parameter                                                      \n",
      "Mu              14.127292        0.147606  13.837989  14.416594\n",
      "Sigma            3.520951        0.104373   3.322212   3.731578\n",
      "Log-Likelihood: -1523.5939960376159 \n",
      "\n"
     ]
    }
   ],
   "source": [
    "# fitting nine distributions to compare log-likelihoods\n",
    "\n",
    "# fitting Normal distribution to Radius data from Breast Cancer dataset\n",
    "# import 2 parameters\n",
    "from reliability.Fitters import Fit_Normal_2P\n",
    "\n",
    "# convert dataframe to array\n",
    "data = df.radius.to_numpy()\n",
    "\n",
    "# fitting the specified Normal 2P distribution and importing 2 parameters, but do not generate \n",
    "# any plots\n",
    "norm = Fit_Normal_2P(failures=data, show_histogram_plot=False, show_probability_plot=False, \n",
    "                     show_PP_plot=False)\n",
    "\n",
    "# output :\n",
    "# 95% CI estimates the upper & lower range for that interval\n",
    "# mean is represented by the mu parameter\n",
    "# standard deviation is represented by the sigma parameter\n",
    "# standard error measures the difference from the actual mean"
   ]
  },
  {
   "cell_type": "code",
   "execution_count": 23,
   "metadata": {},
   "outputs": [
    {
     "name": "stdout",
     "output_type": "stream",
     "text": [
      "Results from Fit_Weibull_2P (95% CI):\n",
      "           Point Estimate  Standard Error   Lower CI   Upper CI\n",
      "Parameter                                                      \n",
      "Alpha           15.509405        0.171053  15.177745  15.848313\n",
      "Beta             4.038529        0.120092   3.809881   4.280898\n",
      "Log-Likelihood: -1546.1016175574657 \n",
      "\n"
     ]
    }
   ],
   "source": [
    "# fitting Weibull 2P distribution and import 2 parameters\n",
    "from reliability.Fitters import Fit_Weibull_2P\n",
    "wb2p = Fit_Weibull_2P(failures=data, show_histogram_plot=False, show_probability_plot=False, \n",
    "                      show_PP_plot=False)"
   ]
  },
  {
   "cell_type": "code",
   "execution_count": 24,
   "metadata": {},
   "outputs": [
    {
     "name": "stdout",
     "output_type": "stream",
     "text": [
      "Results from Fit_Weibull_3P (95% CI):\n",
      "           Point Estimate  Standard Error  Lower CI  Upper CI\n",
      "Parameter                                                    \n",
      "Alpha            8.177788        0.167035  7.856872  8.511812\n",
      "Beta             2.169847        0.068066  2.040458  2.307441\n",
      "Gamma            6.896854        0.079406  6.742964  7.054256\n",
      "Log-Likelihood: -1490.0674449811602 \n",
      "\n"
     ]
    }
   ],
   "source": [
    "# fitting Weibull 3P distribution and import 3 parameters\n",
    "from reliability.Fitters import Fit_Weibull_3P\n",
    "wb3p = Fit_Weibull_3P(failures=data, show_histogram_plot=False, show_probability_plot=False, \n",
    "                      show_PP_plot=False)"
   ]
  },
  {
   "cell_type": "code",
   "execution_count": 25,
   "metadata": {},
   "outputs": [
    {
     "name": "stdout",
     "output_type": "stream",
     "text": [
      "Results from Fit_Gamma_2P (95% CI):\n",
      "           Point Estimate  Standard Error   Lower CI  Upper CI\n",
      "Parameter                                                     \n",
      "Alpha            0.810994        0.048320   0.721610   0.91145\n",
      "Beta            17.419728        1.023027  15.525728  19.54478\n",
      "Log-Likelihood: -1490.1161651385526 \n",
      "\n"
     ]
    }
   ],
   "source": [
    "# fitting Gamma 2P distribution and import 2 parameters\n",
    "from reliability.Fitters import Fit_Gamma_2P\n",
    "gamma = Fit_Gamma_2P(failures=data, show_histogram_plot=False, show_probability_plot=False, \n",
    "                     show_PP_plot=False)"
   ]
  },
  {
   "cell_type": "code",
   "execution_count": 26,
   "metadata": {},
   "outputs": [
    {
     "name": "stdout",
     "output_type": "stream",
     "text": [
      "Results from Fit_Gamma_3P (95% CI):\n",
      "           Point Estimate  Standard Error  Lower CI  Upper CI\n",
      "Parameter                                                    \n",
      "Alpha            1.514029        0.143142  1.257936  1.822260\n",
      "Beta             5.252330        0.735873  3.991124  6.912081\n",
      "Gamma            6.175109        0.437185  5.375035  7.094275\n",
      "Log-Likelihood: -1477.4084589686688 \n",
      "\n"
     ]
    }
   ],
   "source": [
    "# fitting Gamma 3P distribution and import 3 parameters\n",
    "from reliability.Fitters import Fit_Gamma_3P\n",
    "gamma = Fit_Gamma_3P(failures=data, show_histogram_plot=False, show_probability_plot=False, \n",
    "                     show_PP_plot=False)"
   ]
  },
  {
   "cell_type": "code",
   "execution_count": 27,
   "metadata": {},
   "outputs": [
    {
     "name": "stdout",
     "output_type": "stream",
     "text": [
      "Results from Fit_Lognormal_2P (95% CI):\n",
      "           Point Estimate  Standard Error  Lower CI  Upper CI\n",
      "Parameter                                                    \n",
      "Mu               2.619131        0.009977  2.599577  2.638685\n",
      "Sigma            0.237979        0.007055  0.224547  0.252215\n",
      "Log-Likelihood: -1480.8208833388462 \n",
      "\n"
     ]
    }
   ],
   "source": [
    "# fitting Lognormal 2P distribution and import 2 parameters\n",
    "from reliability.Fitters import Fit_Lognormal_2P\n",
    "lognorm = Fit_Lognormal_2P(failures=data, show_histogram_plot=False, show_probability_plot=False, \n",
    "                           show_PP_plot=False)"
   ]
  },
  {
   "cell_type": "code",
   "execution_count": 28,
   "metadata": {},
   "outputs": [
    {
     "name": "stdout",
     "output_type": "stream",
     "text": [
      "Results from Fit_Lognormal_3P (95% CI):\n",
      "           Point Estimate  Standard Error  Lower CI  Upper CI\n",
      "Parameter                                                    \n",
      "Mu               2.250311        0.093073  2.067891  2.432731\n",
      "Sigma            0.341168        0.032966  0.282306  0.412304\n",
      "Gamma            4.067756        0.823507  2.735466  6.048928\n",
      "Log-Likelihood: -1475.912416778903 \n",
      "\n"
     ]
    }
   ],
   "source": [
    "# fitting Lognormal 3P distribution and import 3 parameters\n",
    "from reliability.Fitters import Fit_Lognormal_3P\n",
    "lognorm = Fit_Lognormal_3P(failures=data, show_histogram_plot=False, show_probability_plot=False, \n",
    "                           show_PP_plot=False)"
   ]
  },
  {
   "cell_type": "markdown",
   "metadata": {},
   "source": [
    "Lognormal 3P distribution is found to have the largest log-likelihood, out of all the nine distributions."
   ]
  },
  {
   "cell_type": "code",
   "execution_count": 29,
   "metadata": {},
   "outputs": [
    {
     "name": "stdout",
     "output_type": "stream",
     "text": [
      "Results from Fit_Expon_1P (95% CI):\n",
      "           Point Estimate  Standard Error   Lower CI   Upper CI\n",
      "Parameter                                                      \n",
      "Lambda           0.070785        0.002967   0.065201   0.076847\n",
      "1/Lambda        14.127292        0.592247  13.012918  15.337096\n",
      "Log-Likelihood: -2075.773742727166 \n",
      "\n"
     ]
    }
   ],
   "source": [
    "# fitting Exponential 1P distribution and import 1 parameter\n",
    "from reliability.Fitters import Fit_Expon_1P\n",
    "expon2p = Fit_Expon_1P(failures=data, show_histogram_plot=False, show_probability_plot=False, \n",
    "                       show_PP_plot=False)"
   ]
  },
  {
   "cell_type": "code",
   "execution_count": 30,
   "metadata": {},
   "outputs": [
    {
     "name": "stdout",
     "output_type": "stream",
     "text": [
      "Results from Fit_Expon_2P (95% CI):\n",
      "           Point Estimate  Standard Error  Lower CI  Upper CI\n",
      "Parameter                                                    \n",
      "Lambda           0.139913        0.005865  0.128877  0.151895\n",
      "1/Lambda         7.147292        0.299630  6.583507  7.759357\n",
      "Gamma            6.980000        0.000000  6.980000  6.980000\n",
      "Log-Likelihood: -1688.071365661906 \n",
      "\n"
     ]
    }
   ],
   "source": [
    "# fitting Exponential 2P distribution and import 2 parameters\n",
    "from reliability.Fitters import Fit_Expon_2P\n",
    "expon2p = Fit_Expon_2P(failures=data, show_histogram_plot=False, show_probability_plot=False, \n",
    "                       show_PP_plot=False)"
   ]
  },
  {
   "cell_type": "code",
   "execution_count": 39,
   "metadata": {},
   "outputs": [
    {
     "name": "stdout",
     "output_type": "stream",
     "text": [
      "                   Alpha     Beta    Gamma       Mu     Sigma    Lambda         AICc          BIC\n",
      "Distribution                                                                                     \n",
      "Gamma_3P         1.51403  5.25233  6.17511                               2960.859396  2973.848559\n",
      "Lognormal_2P                                2.61913  0.237979            2965.662968  2974.329528\n",
      "Lognormal_3P                       4.06776  2.25031  0.341168            2957.867311  2974.329528\n",
      "Gamma_2P        0.810994  17.4197                                        2984.253532  2992.920091\n",
      "Weibull_3P       8.17779  2.16985  6.89685                               2986.177368  2999.166531\n",
      "Normal_2P                                   14.1273   3.52095            3051.209193  3059.875753\n",
      "Weibull_2P       15.5094  4.03853                                        3096.224437  3104.890996\n",
      "Exponential_2P                        6.98                     0.139913  3380.163933  3388.830492\n",
      "Exponential_1P                                                 0.070785  4153.554540  4157.891366\n"
     ]
    }
   ],
   "source": [
    "# fitting 9 distributions to compare the corrected Akaike's Information Criterion (AICc) and\n",
    "# Bayesian Information Criterion (BIC)\n",
    "from reliability.Fitters import Fit_Everything\n",
    "Fit_Everything(failures=data, show_histogram_plot=False, show_probability_plot=False, \n",
    "               show_PP_plot=False)\n",
    "plt.show()\n",
    "\n",
    "# output :\n",
    "# gamma_3P is the best distribution in terms of smallest AIC and BIC\n",
    "# lognormal_3P is the best distribution in terms of largest log-likelihood, as found above\n",
    "# estimation of value must be performed to find the better distribution"
   ]
  },
  {
   "cell_type": "code",
   "execution_count": 32,
   "metadata": {},
   "outputs": [
    {
     "name": "stdout",
     "output_type": "stream",
     "text": [
      "Results from Fit_Gamma_3P (95% CI):\n",
      "           Point Estimate  Standard Error  Lower CI  Upper CI\n",
      "Parameter                                                    \n",
      "Alpha            1.514029        0.143142  1.257936  1.822260\n",
      "Beta             5.252330        0.735873  3.991124  6.912081\n",
      "Gamma            6.175109        0.437185  5.375035  7.094275\n",
      "Log-Likelihood: -1477.4084589686688 \n",
      "\n"
     ]
    },
    {
     "data": {
      "image/png": "[encoded data removed]",
      "text/plain": [
       "<Figure size 648x504 with 1 Axes>"
      ]
     },
     "metadata": {
      "needs_background": "light"
     },
     "output_type": "display_data"
    }
   ],
   "source": [
    "# chosen distribution with best goodness-of-fit and most efficient model\n",
    "Fit_Gamma_3P(failures=data)\n",
    "\n",
    "# display distribution plot, where the cdf fits a best-fit line according to the chosen Gamma \n",
    "# distribution with 3 parameters of Alpha, Beta, and Gamma\n",
    "plt.show()"
   ]
  },
  {
   "cell_type": "markdown",
   "metadata": {},
   "source": [
    "Conclusion :\n",
    "\n",
    "Radius feature from the Breast Cancer dataset is chosen to find an appropriate distribution. NumPy library provides basic tools to compute and manipulate high-performance arrays. In order to fit distributions to the data, the original dataframe used for previous computations is converted to an array using the to_numpy() method.\n",
    "\n",
    "The distributions are imported from the reliability.Fitters library for fitting. The specific distribution methods' parameters are then modified since it is not necessary to generate any distribution plots such as histogram plots, probability plots, and P-P plots. Only the best goodness-of-fit and most accurate and efficient model for distribution will be chosen and its distribution plot will be generated in terms of a cumulative distribution function (CDF).\n",
    "\n",
    "Nine distributions are fitted and their log-likelihoods, corrected Akaike's Information Criterion (AICc), and Bayesian Information Criterion (BIC) are compared. Lognormal_3P is the best distribution in terms of the largest log-likelihood and thus the goodness-of-fit. Gamma_3P is the best distribution in terms of the smallest AICc and BIC and thus least prediction error in comparison, as found by importing Fit_Everything from the reliability.Fitters library. Estimation of value must be performed to find the better distribution.\n",
    "\n",
    "For this Breast Cancer diagnosis situation, BIC is a better measure since a false positive is as misleading as, and could be more misleading than, a false negative. Therefore, Gamma_3P is chosen as the best goodness-of-fit and most accurate and efficient model for the distribution of Radius data. Its distribution plot is a cumulative distribution function (CDF) with a best-fit line, with 3 parameters of Alpha, Beta, and Gamma. This will be used to predict the probability, and forecast the frequency of the magnitude of the event in a certain interval."
   ]
  },
  {
   "cell_type": "code",
   "execution_count": 33,
   "metadata": {},
   "outputs": [],
   "source": [
    "# Marks for Question 4 \n",
    "#Q4=Test([4,10,10,10,8,10])"
   ]
  },
  {
   "cell_type": "markdown",
   "metadata": {},
   "source": [
    "# Marking Rubrics"
   ]
  },
  {
   "cell_type": "code",
   "execution_count": 34,
   "metadata": {
    "scrolled": true
   },
   "outputs": [
    {
     "data": {
      "text/latex": [
       "\\begin{tabular}{||p{0.13\\textwidth}|p{0.04\\textwidth}|p{0.13\\textwidth}|p{0.13\\textwidth}|p{0.13\\textwidth}|p{0.13\\textwidth}|p{0.13\\textwidth}||} \n",
       " \\hline\n",
       " Criteria & Full Mark & Excellant & Good & Average & Exceptable & Poor\\\\ \n",
       " \\hline\\hline\n",
       " Correctness of syntax & 10 & Program is correct (10) & Minor errors in program (08) & Substantial errors in program (06) & Several errors in program (04) & Program is wrong and irrelevant (02)\\\\\n",
       " \\hline\n",
       " Result & 10 & Result is correct (10) & Minor errors in result (08) & Substantial errors in result (06) & Several errors in result (04) & Result is wrong and irrelevant (02)\\\\  \n",
       " \\hline\n",
       " Proper naming of variables & 10& Naming of variables is correct(10) & Minor errors in naming of the variables (08) & Substantial errors in naming of the variables (06)& Several errors in naming of the variables (04)& Wrong naming of the variables and irrelevant (02)\\\\\n",
       " \\hline\n",
       " Commenting & 10 & Commenting is correct (10) & Minor error in the commenting (08) & Substantial error in the commenting (06) & Several errors in the commenting (04) & Commenting is wrong and irrelevant (02)\\\\\n",
       " \\hline\n",
       " Clearness & 10 & Clearness is correct (10) & Minor error in the clearness (08) & Substantial error in the clearness (06) & Several errors in the clearness (04) & Clearness is wrong and irrelevant (02)\\\\\n",
       " \\hline\n",
       "\\end{tabular}"
      ],
      "text/plain": [
       "<IPython.core.display.Latex object>"
      ]
     },
     "execution_count": 34,
     "metadata": {},
     "output_type": "execute_result"
    }
   ],
   "source": [
    "from IPython.display import Latex\n",
    "Latex(r\"\"\"\\begin{tabular}{||p{0.13\\textwidth}|p{0.04\\textwidth}|p{0.13\\textwidth}|p{0.13\\textwidth}|p{0.13\\textwidth}|p{0.13\\textwidth}|p{0.13\\textwidth}||} \n",
    " \\hline\n",
    " Criteria & Full Mark & Excellant & Good & Average & Exceptable & Poor\\\\ \n",
    " \\hline\\hline\n",
    " Correctness of syntax & 10 & Program is correct (10) & Minor errors in program (08) & Substantial errors in program (06) & Several errors in program (04) & Program is wrong and irrelevant (02)\\\\\n",
    " \\hline\n",
    " Result & 10 & Result is correct (10) & Minor errors in result (08) & Substantial errors in result (06) & Several errors in result (04) & Result is wrong and irrelevant (02)\\\\  \n",
    " \\hline\n",
    " Proper naming of variables & 10& Naming of variables is correct(10) & Minor errors in naming of the variables (08) & Substantial errors in naming of the variables (06)& Several errors in naming of the variables (04)& Wrong naming of the variables and irrelevant (02)\\\\\n",
    " \\hline\n",
    " Commenting & 10 & Commenting is correct (10) & Minor error in the commenting (08) & Substantial error in the commenting (06) & Several errors in the commenting (04) & Commenting is wrong and irrelevant (02)\\\\\n",
    " \\hline\n",
    " Clearness & 10 & Clearness is correct (10) & Minor error in the clearness (08) & Substantial error in the clearness (06) & Several errors in the clearness (04) & Clearness is wrong and irrelevant (02)\\\\\n",
    " \\hline\n",
    "\\end{tabular}\"\"\")"
   ]
  },
  {
   "cell_type": "markdown",
   "metadata": {},
   "source": [
    "# Marking Scheme"
   ]
  },
  {
   "cell_type": "code",
   "execution_count": 35,
   "metadata": {},
   "outputs": [],
   "source": [
    "# This cell is meant for marking\n",
    "class Test(object):\n",
    "    def __init__(self,sizes):\n",
    "        self.sizes=sizes\n",
    "        self.Q=sizes[0]\n",
    "        self.Q1a=sizes[1]\n",
    "        self.Q1b=sizes[2]\n",
    "        self.Q1c=sizes[3]\n",
    "        self.Q1d=sizes[4]\n",
    "        self.Q1e=sizes[5]\n",
    "        print('Question',self.Q, 'marks distribution')\n",
    "        print('Correctness of Syntax : ', self.Q1a)\n",
    "        print('Result :', self.Q1b)\n",
    "        print('Proper naming of variables and functions:', self.Q1c)\n",
    "        print('Commenting (Explanation):', self.Q1d)\n",
    "        print('Clearness:', self.Q1e)\n",
    "        self.QT=(self.Q1a+self.Q1b+self.Q1c+self.Q1d+self.Q1e)/5\n",
    "        print('Question',self.Q, 'mark is', self.QT)\n",
    "        print()"
   ]
  },
  {
   "cell_type": "code",
   "execution_count": 36,
   "metadata": {},
   "outputs": [],
   "source": [
    "# This cell is meant for marking.\n",
    "def particulars(name,Prog):\n",
    "    print('Name:', name)\n",
    "    print('Programme:', Prog)\n",
    "    print('Test 2 Marks Distribution')\n",
    "    print('Question 1: ', Q1.QT)\n",
    "    print('Question 2:', Q2.QT)\n",
    "    print('Question 3:', Q3.QT)\n",
    "    print('Question 4:', Q4.QT)\n",
    "    print('Test Mark:', (Q1.QT+Q2.QT+Q3.QT+Q4.QT)/2)\n",
    "    print() "
   ]
  },
  {
   "cell_type": "code",
   "execution_count": 37,
   "metadata": {},
   "outputs": [
    {
     "name": "stdout",
     "output_type": "stream",
     "text": [
      "Name: Neo Ann Yi\n",
      "Programme: Bachelor of Computer Science\n",
      "Test 2 Marks Distribution\n"
     ]
    },
    {
     "ename": "NameError",
     "evalue": "name 'Q1' is not defined",
     "output_type": "error",
     "traceback": [
      "\u001b[1;31m---------------------------------------------------------------------------\u001b[0m",
      "\u001b[1;31mNameError\u001b[0m                                 Traceback (most recent call last)",
      "\u001b[1;32m<ipython-input-37-e964c3a0253e>\u001b[0m in \u001b[0;36m<module>\u001b[1;34m\u001b[0m\n\u001b[1;32m----> 1\u001b[1;33m \u001b[0mparticulars\u001b[0m\u001b[1;33m(\u001b[0m\u001b[1;34m'Neo Ann Yi'\u001b[0m\u001b[1;33m,\u001b[0m\u001b[1;34m'Bachelor of Computer Science'\u001b[0m\u001b[1;33m)\u001b[0m\u001b[1;33m\u001b[0m\u001b[1;33m\u001b[0m\u001b[0m\n\u001b[0m",
      "\u001b[1;32m<ipython-input-36-9890ccb2eb81>\u001b[0m in \u001b[0;36mparticulars\u001b[1;34m(name, Prog)\u001b[0m\n\u001b[0;32m      4\u001b[0m     \u001b[0mprint\u001b[0m\u001b[1;33m(\u001b[0m\u001b[1;34m'Programme:'\u001b[0m\u001b[1;33m,\u001b[0m \u001b[0mProg\u001b[0m\u001b[1;33m)\u001b[0m\u001b[1;33m\u001b[0m\u001b[1;33m\u001b[0m\u001b[0m\n\u001b[0;32m      5\u001b[0m     \u001b[0mprint\u001b[0m\u001b[1;33m(\u001b[0m\u001b[1;34m'Test 2 Marks Distribution'\u001b[0m\u001b[1;33m)\u001b[0m\u001b[1;33m\u001b[0m\u001b[1;33m\u001b[0m\u001b[0m\n\u001b[1;32m----> 6\u001b[1;33m     \u001b[0mprint\u001b[0m\u001b[1;33m(\u001b[0m\u001b[1;34m'Question 1: '\u001b[0m\u001b[1;33m,\u001b[0m \u001b[0mQ1\u001b[0m\u001b[1;33m.\u001b[0m\u001b[0mQT\u001b[0m\u001b[1;33m)\u001b[0m\u001b[1;33m\u001b[0m\u001b[1;33m\u001b[0m\u001b[0m\n\u001b[0m\u001b[0;32m      7\u001b[0m     \u001b[0mprint\u001b[0m\u001b[1;33m(\u001b[0m\u001b[1;34m'Question 2:'\u001b[0m\u001b[1;33m,\u001b[0m \u001b[0mQ2\u001b[0m\u001b[1;33m.\u001b[0m\u001b[0mQT\u001b[0m\u001b[1;33m)\u001b[0m\u001b[1;33m\u001b[0m\u001b[1;33m\u001b[0m\u001b[0m\n\u001b[0;32m      8\u001b[0m     \u001b[0mprint\u001b[0m\u001b[1;33m(\u001b[0m\u001b[1;34m'Question 3:'\u001b[0m\u001b[1;33m,\u001b[0m \u001b[0mQ3\u001b[0m\u001b[1;33m.\u001b[0m\u001b[0mQT\u001b[0m\u001b[1;33m)\u001b[0m\u001b[1;33m\u001b[0m\u001b[1;33m\u001b[0m\u001b[0m\n",
      "\u001b[1;31mNameError\u001b[0m: name 'Q1' is not defined"
     ]
    }
   ],
   "source": [
    "particulars('Neo Ann Yi','Bachelor of Computer Science')"
   ]
  },
  {
   "cell_type": "markdown",
   "metadata": {},
   "source": [
    "### End Of Question Paper"
   ]
  }
 ],
 "metadata": {
  "kernelspec": {
   "display_name": "Python 3",
   "language": "python",
   "name": "python3"
  },
  "language_info": {
   "codemirror_mode": {
    "name": "ipython",
    "version": 3
   },
   "file_extension": ".py",
   "mimetype": "text/x-python",
   "name": "python",
   "nbconvert_exporter": "python",
   "pygments_lexer": "ipython3",
   "version": "3.8.3"
  }
 },
 "nbformat": 4,
 "nbformat_minor": 4
}
